{
 "cells": [
  {
   "cell_type": "code",
   "execution_count": 1,
   "metadata": {},
   "outputs": [],
   "source": [
    "import numpy as np\n",
    "import pandas as pd"
   ]
  },
  {
   "cell_type": "code",
   "execution_count": 2,
   "metadata": {},
   "outputs": [],
   "source": [
    "data= pd.read_csv('https://gist.githubusercontent.com/curran/a08a1080b88344b0c8a7/raw/639388c2cbc2120a14dcf466e85730eb8be498bb/iris.csv')"
   ]
  },
  {
   "cell_type": "code",
   "execution_count": 3,
   "metadata": {},
   "outputs": [],
   "source": [
    "features = data.iloc[:,:-1].values\n",
    "label = data.iloc[:,-1].values"
   ]
  },
  {
   "cell_type": "code",
   "execution_count": 4,
   "metadata": {},
   "outputs": [],
   "source": [
    "#Train Test Split\n",
    "from sklearn.model_selection import train_test_split\n",
    "X_train,X_test,y_train,y_test = train_test_split(features,\n",
    "                                                label,\n",
    "                                                test_size=0.2,\n",
    "                                                random_state = 23)"
   ]
  },
  {
   "cell_type": "markdown",
   "metadata": {},
   "source": [
    "# Bagging Classifier using Shuffling Technique"
   ]
  },
  {
   "cell_type": "code",
   "execution_count": 5,
   "metadata": {},
   "outputs": [
    {
     "data": {
      "text/plain": [
       "BaggingClassifier(base_estimator=KNeighborsClassifier(algorithm='auto',\n",
       "                                                      leaf_size=30,\n",
       "                                                      metric='minkowski',\n",
       "                                                      metric_params=None,\n",
       "                                                      n_jobs=None,\n",
       "                                                      n_neighbors=5, p=2,\n",
       "                                                      weights='uniform'),\n",
       "                  bootstrap=True, bootstrap_features=False, max_features=1.0,\n",
       "                  max_samples=1.0, n_estimators=11, n_jobs=None,\n",
       "                  oob_score=False, random_state=None, verbose=0,\n",
       "                  warm_start=False)"
      ]
     },
     "execution_count": 5,
     "metadata": {},
     "output_type": "execute_result"
    }
   ],
   "source": [
    "#Entire training set will be considered for each weak learner's training\n",
    "\n",
    "#KNN\n",
    "\n",
    "from sklearn.ensemble import BaggingClassifier\n",
    "from sklearn.neighbors import KNeighborsClassifier\n",
    "\n",
    "algorithm = KNeighborsClassifier()\n",
    "\n",
    "model = BaggingClassifier(n_estimators=11, #No of weak learners\n",
    "                         base_estimator=algorithm) #The algo to be used for learning\n",
    "\n",
    "model.fit(X_train,y_train)"
   ]
  },
  {
   "cell_type": "code",
   "execution_count": 6,
   "metadata": {},
   "outputs": [
    {
     "name": "stdout",
     "output_type": "stream",
     "text": [
      "0.9666666666666667\n",
      "1.0\n"
     ]
    }
   ],
   "source": [
    "print(model.score(X_train,y_train))\n",
    "print(model.score(X_test,y_test))"
   ]
  },
  {
   "cell_type": "markdown",
   "metadata": {},
   "source": [
    "# Bagging Classifier using Sampling Techniques"
   ]
  },
  {
   "cell_type": "markdown",
   "metadata": {},
   "source": [
    "## 1. Using Sample With Replacement"
   ]
  },
  {
   "cell_type": "code",
   "execution_count": 7,
   "metadata": {},
   "outputs": [
    {
     "data": {
      "text/plain": [
       "11"
      ]
     },
     "execution_count": 7,
     "metadata": {},
     "output_type": "execute_result"
    }
   ],
   "source": [
    "#Set the sample size\n",
    "sampleSize = int(round(np.sqrt(len(X_train))))\n",
    "sampleSize"
   ]
  },
  {
   "cell_type": "code",
   "execution_count": 9,
   "metadata": {},
   "outputs": [],
   "source": [
    "modelSampleWithReplaceMent = BaggingClassifier(n_estimators=11,\n",
    "                                              base_estimator=algorithm,\n",
    "                                              max_samples=sampleSize, #No of data pts per model\n",
    "                                              bootstrap=True ) #Sample With Replacement enabled"
   ]
  },
  {
   "cell_type": "code",
   "execution_count": 10,
   "metadata": {},
   "outputs": [
    {
     "data": {
      "text/plain": [
       "BaggingClassifier(base_estimator=KNeighborsClassifier(algorithm='auto',\n",
       "                                                      leaf_size=30,\n",
       "                                                      metric='minkowski',\n",
       "                                                      metric_params=None,\n",
       "                                                      n_jobs=None,\n",
       "                                                      n_neighbors=5, p=2,\n",
       "                                                      weights='uniform'),\n",
       "                  bootstrap=True, bootstrap_features=False, max_features=1.0,\n",
       "                  max_samples=11, n_estimators=11, n_jobs=None, oob_score=False,\n",
       "                  random_state=None, verbose=0, warm_start=False)"
      ]
     },
     "execution_count": 10,
     "metadata": {},
     "output_type": "execute_result"
    }
   ],
   "source": [
    "modelSampleWithReplaceMent.fit(X_train,y_train)"
   ]
  },
  {
   "cell_type": "code",
   "execution_count": 12,
   "metadata": {},
   "outputs": [
    {
     "name": "stdout",
     "output_type": "stream",
     "text": [
      "0.9416666666666667\n",
      "0.9\n"
     ]
    }
   ],
   "source": [
    "print(modelSampleWithReplaceMent.score(X_train,y_train))\n",
    "print(modelSampleWithReplaceMent.score(X_test,y_test))"
   ]
  },
  {
   "cell_type": "markdown",
   "metadata": {},
   "source": [
    "## 2. Using Sample Without Replacement"
   ]
  },
  {
   "cell_type": "code",
   "execution_count": 13,
   "metadata": {},
   "outputs": [
    {
     "data": {
      "text/plain": [
       "11"
      ]
     },
     "execution_count": 13,
     "metadata": {},
     "output_type": "execute_result"
    }
   ],
   "source": [
    "#Set the sample size\n",
    "sampleSize = int(round(np.sqrt(len(X_train))))\n",
    "sampleSize"
   ]
  },
  {
   "cell_type": "code",
   "execution_count": 14,
   "metadata": {},
   "outputs": [],
   "source": [
    "modelSampleWithOutReplaceMent = BaggingClassifier(n_estimators=11,\n",
    "                                              base_estimator=algorithm,\n",
    "                                              max_samples=sampleSize, #No of data pts per model\n",
    "                                              bootstrap=False ) #Sample Without Replacement enabled"
   ]
  },
  {
   "cell_type": "code",
   "execution_count": 15,
   "metadata": {},
   "outputs": [
    {
     "data": {
      "text/plain": [
       "BaggingClassifier(base_estimator=KNeighborsClassifier(algorithm='auto',\n",
       "                                                      leaf_size=30,\n",
       "                                                      metric='minkowski',\n",
       "                                                      metric_params=None,\n",
       "                                                      n_jobs=None,\n",
       "                                                      n_neighbors=5, p=2,\n",
       "                                                      weights='uniform'),\n",
       "                  bootstrap=False, bootstrap_features=False, max_features=1.0,\n",
       "                  max_samples=11, n_estimators=11, n_jobs=None, oob_score=False,\n",
       "                  random_state=None, verbose=0, warm_start=False)"
      ]
     },
     "execution_count": 15,
     "metadata": {},
     "output_type": "execute_result"
    }
   ],
   "source": [
    "modelSampleWithOutReplaceMent.fit(X_train,y_train)"
   ]
  },
  {
   "cell_type": "code",
   "execution_count": 16,
   "metadata": {},
   "outputs": [
    {
     "name": "stdout",
     "output_type": "stream",
     "text": [
      "0.9\n",
      "0.8666666666666667\n"
     ]
    }
   ],
   "source": [
    "print(modelSampleWithOutReplaceMent.score(X_train,y_train))\n",
    "print(modelSampleWithOutReplaceMent.score(X_test,y_test))"
   ]
  },
  {
   "cell_type": "code",
   "execution_count": 17,
   "metadata": {},
   "outputs": [],
   "source": [
    "#Regression\n",
    "from sklearn.ensemble import BaggingRegressor\n"
   ]
  },
  {
   "cell_type": "code",
   "execution_count": 18,
   "metadata": {},
   "outputs": [],
   "source": [
    "?BaggingRegressor"
   ]
  },
  {
   "cell_type": "markdown",
   "metadata": {},
   "source": [
    "# Decision Tree Example"
   ]
  },
  {
   "cell_type": "code",
   "execution_count": 22,
   "metadata": {},
   "outputs": [
    {
     "data": {
      "text/plain": [
       "DecisionTreeClassifier(ccp_alpha=0.0, class_weight=None, criterion='gini',\n",
       "                       max_depth=None, max_features=None, max_leaf_nodes=None,\n",
       "                       min_impurity_decrease=0.0, min_impurity_split=None,\n",
       "                       min_samples_leaf=1, min_samples_split=2,\n",
       "                       min_weight_fraction_leaf=0.0, presort='deprecated',\n",
       "                       random_state=None, splitter='best')"
      ]
     },
     "execution_count": 22,
     "metadata": {},
     "output_type": "execute_result"
    }
   ],
   "source": [
    "from sklearn.tree import DecisionTreeClassifier\n",
    "modelDT1 = DecisionTreeClassifier()\n",
    "modelDT1.fit(X_train,y_train)"
   ]
  },
  {
   "cell_type": "code",
   "execution_count": 23,
   "metadata": {},
   "outputs": [
    {
     "data": {
      "text/plain": [
       "1.0"
      ]
     },
     "execution_count": 23,
     "metadata": {},
     "output_type": "execute_result"
    }
   ],
   "source": [
    "modelDT1.score(X_train,y_train)"
   ]
  },
  {
   "cell_type": "code",
   "execution_count": 24,
   "metadata": {},
   "outputs": [
    {
     "data": {
      "text/plain": [
       "0.9666666666666667"
      ]
     },
     "execution_count": 24,
     "metadata": {},
     "output_type": "execute_result"
    }
   ],
   "source": [
    "modelDT1.score(X_test,y_test)"
   ]
  },
  {
   "cell_type": "code",
   "execution_count": 35,
   "metadata": {},
   "outputs": [
    {
     "data": {
      "text/plain": [
       "DecisionTreeClassifier(ccp_alpha=0.0, class_weight=None, criterion='gini',\n",
       "                       max_depth=6, max_features=None, max_leaf_nodes=None,\n",
       "                       min_impurity_decrease=0.0, min_impurity_split=None,\n",
       "                       min_samples_leaf=1, min_samples_split=2,\n",
       "                       min_weight_fraction_leaf=0.0, presort='deprecated',\n",
       "                       random_state=None, splitter='best')"
      ]
     },
     "execution_count": 35,
     "metadata": {},
     "output_type": "execute_result"
    }
   ],
   "source": [
    "#To control Overfitting we can play around with Hyperparameters\n",
    "modelDT2 = DecisionTreeClassifier(max_depth=6) #Go with No of features\n",
    "modelDT2.fit(X_train,y_train)"
   ]
  },
  {
   "cell_type": "code",
   "execution_count": 36,
   "metadata": {},
   "outputs": [
    {
     "data": {
      "text/plain": [
       "1.0"
      ]
     },
     "execution_count": 36,
     "metadata": {},
     "output_type": "execute_result"
    }
   ],
   "source": [
    "modelDT2.score(X_train,y_train)"
   ]
  },
  {
   "cell_type": "code",
   "execution_count": 37,
   "metadata": {},
   "outputs": [
    {
     "data": {
      "text/plain": [
       "1.0"
      ]
     },
     "execution_count": 37,
     "metadata": {},
     "output_type": "execute_result"
    }
   ],
   "source": [
    "modelDT2.score(X_test,y_test)"
   ]
  },
  {
   "cell_type": "code",
   "execution_count": 39,
   "metadata": {},
   "outputs": [
    {
     "name": "stdout",
     "output_type": "stream",
     "text": [
      "              precision    recall  f1-score   support\n",
      "\n",
      "      setosa       1.00      1.00      1.00        12\n",
      "  versicolor       1.00      1.00      1.00         8\n",
      "   virginica       1.00      1.00      1.00        10\n",
      "\n",
      "    accuracy                           1.00        30\n",
      "   macro avg       1.00      1.00      1.00        30\n",
      "weighted avg       1.00      1.00      1.00        30\n",
      "\n"
     ]
    }
   ],
   "source": [
    "from sklearn.metrics import classification_report\n",
    "from sklearn.metrics import confusion_matrix\n",
    "print(classification_report(y_test,modelDT2.predict(X_test)))"
   ]
  },
  {
   "cell_type": "code",
   "execution_count": 40,
   "metadata": {},
   "outputs": [
    {
     "data": {
      "text/plain": [
       "array([[12,  0,  0],\n",
       "       [ 0,  8,  0],\n",
       "       [ 0,  0, 10]])"
      ]
     },
     "execution_count": 40,
     "metadata": {},
     "output_type": "execute_result"
    }
   ],
   "source": [
    "confusion_matrix(y_test,modelDT2.predict(X_test))"
   ]
  },
  {
   "cell_type": "code",
   "execution_count": 44,
   "metadata": {},
   "outputs": [
    {
     "name": "stdout",
     "output_type": "stream",
     "text": [
      "Test Score 1.0 Train Score 0.9916666666666667 RS 3\n",
      "Test Score 1.0 Train Score 0.9916666666666667 RS 9\n",
      "Test Score 1.0 Train Score 0.9916666666666667 RS 10\n",
      "Test Score 1.0 Train Score 0.9916666666666667 RS 24\n",
      "Test Score 1.0 Train Score 0.975 RS 32\n",
      "Test Score 1.0 Train Score 0.9916666666666667 RS 37\n",
      "Test Score 1.0 Train Score 0.9916666666666667 RS 40\n",
      "Test Score 1.0 Train Score 0.9833333333333333 RS 43\n",
      "Test Score 1.0 Train Score 0.9916666666666667 RS 68\n",
      "Test Score 1.0 Train Score 0.9916666666666667 RS 70\n",
      "Test Score 1.0 Train Score 0.9916666666666667 RS 86\n",
      "Test Score 1.0 Train Score 0.9916666666666667 RS 91\n",
      "Test Score 1.0 Train Score 0.9916666666666667 RS 93\n",
      "Test Score 1.0 Train Score 0.9916666666666667 RS 101\n",
      "Test Score 1.0 Train Score 0.9916666666666667 RS 103\n",
      "Test Score 1.0 Train Score 0.9916666666666667 RS 112\n",
      "Test Score 1.0 Train Score 0.9916666666666667 RS 120\n",
      "Test Score 1.0 Train Score 0.9916666666666667 RS 126\n",
      "Test Score 1.0 Train Score 0.9916666666666667 RS 131\n",
      "Test Score 1.0 Train Score 0.9916666666666667 RS 152\n",
      "Test Score 1.0 Train Score 0.9916666666666667 RS 156\n",
      "Test Score 1.0 Train Score 0.9916666666666667 RS 169\n",
      "Test Score 1.0 Train Score 0.9916666666666667 RS 187\n",
      "Test Score 1.0 Train Score 0.9916666666666667 RS 219\n",
      "Test Score 1.0 Train Score 0.9916666666666667 RS 224\n",
      "Test Score 1.0 Train Score 0.975 RS 226\n",
      "Test Score 1.0 Train Score 0.9833333333333333 RS 257\n",
      "Test Score 1.0 Train Score 0.9833333333333333 RS 270\n",
      "Test Score 1.0 Train Score 0.9916666666666667 RS 273\n",
      "Test Score 1.0 Train Score 0.9916666666666667 RS 278\n",
      "Test Score 1.0 Train Score 0.9916666666666667 RS 290\n",
      "Test Score 1.0 Train Score 0.9916666666666667 RS 293\n",
      "Test Score 1.0 Train Score 0.9916666666666667 RS 294\n",
      "Test Score 1.0 Train Score 0.9916666666666667 RS 315\n",
      "Test Score 1.0 Train Score 0.9916666666666667 RS 321\n",
      "Test Score 1.0 Train Score 0.9916666666666667 RS 331\n",
      "Test Score 1.0 Train Score 0.9833333333333333 RS 338\n",
      "Test Score 1.0 Train Score 0.9916666666666667 RS 342\n",
      "Test Score 1.0 Train Score 0.9916666666666667 RS 347\n",
      "Test Score 1.0 Train Score 0.9916666666666667 RS 355\n",
      "Test Score 1.0 Train Score 0.9916666666666667 RS 364\n",
      "Test Score 1.0 Train Score 0.9916666666666667 RS 365\n",
      "Test Score 1.0 Train Score 0.9833333333333333 RS 383\n",
      "Test Score 1.0 Train Score 0.9916666666666667 RS 389\n",
      "Test Score 1.0 Train Score 0.9833333333333333 RS 390\n",
      "Test Score 1.0 Train Score 0.9833333333333333 RS 398\n"
     ]
    }
   ],
   "source": [
    "#Bagging -- Shuffling Method\n",
    "\n",
    "for i in range(1,401):\n",
    "    X_train,X_test,y_train,y_test = train_test_split(features,\n",
    "                                                label,\n",
    "                                                test_size=0.2,\n",
    "                                                random_state = i)\n",
    "    \n",
    "    \n",
    "    modelDT3 = DecisionTreeClassifier()\n",
    "    bagClassifier = BaggingClassifier(n_estimators=11,\n",
    "                                     base_estimator=modelDT3)\n",
    "    bagClassifier.fit(X_train,y_train)\n",
    "    \n",
    "    trainScore = bagClassifier.score(X_train,y_train)\n",
    "    testScore = bagClassifier.score(X_test,y_test)\n",
    "    \n",
    "    if testScore > trainScore:\n",
    "        print(\"Test Score {} Train Score {} RS {}\".format(testScore,trainScore,i))"
   ]
  },
  {
   "cell_type": "code",
   "execution_count": 45,
   "metadata": {},
   "outputs": [
    {
     "name": "stdout",
     "output_type": "stream",
     "text": [
      "Test Score 0.9666666666666667 Train Score 0.95 RS 2\n",
      "Test Score 1.0 Train Score 0.95 RS 3\n",
      "Test Score 0.9666666666666667 Train Score 0.9583333333333334 RS 6\n",
      "Test Score 1.0 Train Score 0.9666666666666667 RS 9\n",
      "Test Score 1.0 Train Score 0.9333333333333333 RS 10\n",
      "Test Score 0.9666666666666667 Train Score 0.95 RS 14\n",
      "Test Score 1.0 Train Score 0.9666666666666667 RS 15\n",
      "Test Score 0.9666666666666667 Train Score 0.95 RS 18\n",
      "Test Score 1.0 Train Score 0.9416666666666667 RS 24\n",
      "Test Score 0.9666666666666667 Train Score 0.95 RS 30\n",
      "Test Score 0.9666666666666667 Train Score 0.9416666666666667 RS 35\n",
      "Test Score 0.9666666666666667 Train Score 0.9416666666666667 RS 38\n",
      "Test Score 0.9666666666666667 Train Score 0.9583333333333334 RS 39\n",
      "Test Score 0.9666666666666667 Train Score 0.925 RS 40\n",
      "Test Score 0.9666666666666667 Train Score 0.9583333333333334 RS 42\n",
      "Test Score 0.9666666666666667 Train Score 0.9333333333333333 RS 43\n",
      "Test Score 1.0 Train Score 0.9583333333333334 RS 50\n",
      "Test Score 1.0 Train Score 0.95 RS 52\n",
      "Test Score 0.9666666666666667 Train Score 0.95 RS 57\n",
      "Test Score 0.9666666666666667 Train Score 0.9583333333333334 RS 64\n",
      "Test Score 0.9666666666666667 Train Score 0.9583333333333334 RS 66\n",
      "Test Score 1.0 Train Score 0.9416666666666667 RS 67\n",
      "Test Score 0.9666666666666667 Train Score 0.9583333333333334 RS 69\n",
      "Test Score 1.0 Train Score 0.95 RS 70\n",
      "Test Score 1.0 Train Score 0.95 RS 72\n",
      "Test Score 1.0 Train Score 0.9583333333333334 RS 74\n",
      "Test Score 0.9666666666666667 Train Score 0.95 RS 75\n",
      "Test Score 0.9666666666666667 Train Score 0.9583333333333334 RS 78\n",
      "Test Score 0.9666666666666667 Train Score 0.95 RS 81\n",
      "Test Score 1.0 Train Score 0.95 RS 84\n",
      "Test Score 1.0 Train Score 0.9583333333333334 RS 85\n",
      "Test Score 1.0 Train Score 0.95 RS 86\n",
      "Test Score 1.0 Train Score 0.9583333333333334 RS 87\n",
      "Test Score 0.9666666666666667 Train Score 0.9333333333333333 RS 88\n",
      "Test Score 1.0 Train Score 0.95 RS 89\n",
      "Test Score 0.9666666666666667 Train Score 0.95 RS 90\n",
      "Test Score 1.0 Train Score 0.9666666666666667 RS 91\n",
      "Test Score 0.9666666666666667 Train Score 0.9583333333333334 RS 93\n",
      "Test Score 0.9666666666666667 Train Score 0.95 RS 94\n",
      "Test Score 0.9666666666666667 Train Score 0.95 RS 96\n",
      "Test Score 0.9666666666666667 Train Score 0.9583333333333334 RS 97\n",
      "Test Score 0.9666666666666667 Train Score 0.95 RS 99\n",
      "Test Score 1.0 Train Score 0.95 RS 101\n",
      "Test Score 0.9666666666666667 Train Score 0.9583333333333334 RS 102\n",
      "Test Score 1.0 Train Score 0.9583333333333334 RS 103\n",
      "Test Score 1.0 Train Score 0.9416666666666667 RS 104\n",
      "Test Score 1.0 Train Score 0.9666666666666667 RS 106\n",
      "Test Score 1.0 Train Score 0.9083333333333333 RS 107\n",
      "Test Score 1.0 Train Score 0.95 RS 112\n",
      "Test Score 0.9666666666666667 Train Score 0.9583333333333334 RS 113\n",
      "Test Score 0.9666666666666667 Train Score 0.95 RS 120\n",
      "Test Score 0.9666666666666667 Train Score 0.9583333333333334 RS 122\n",
      "Test Score 1.0 Train Score 0.95 RS 125\n",
      "Test Score 1.0 Train Score 0.9666666666666667 RS 128\n",
      "Test Score 0.9666666666666667 Train Score 0.925 RS 133\n",
      "Test Score 0.9666666666666667 Train Score 0.95 RS 136\n",
      "Test Score 1.0 Train Score 0.95 RS 137\n",
      "Test Score 0.9666666666666667 Train Score 0.9583333333333334 RS 138\n",
      "Test Score 1.0 Train Score 0.95 RS 140\n",
      "Test Score 0.9666666666666667 Train Score 0.9583333333333334 RS 144\n",
      "Test Score 0.9666666666666667 Train Score 0.9416666666666667 RS 146\n",
      "Test Score 0.9666666666666667 Train Score 0.9583333333333334 RS 149\n",
      "Test Score 1.0 Train Score 0.95 RS 152\n",
      "Test Score 1.0 Train Score 0.95 RS 154\n",
      "Test Score 1.0 Train Score 0.9583333333333334 RS 155\n",
      "Test Score 1.0 Train Score 0.95 RS 156\n",
      "Test Score 0.9666666666666667 Train Score 0.9583333333333334 RS 160\n",
      "Test Score 0.9666666666666667 Train Score 0.95 RS 164\n",
      "Test Score 1.0 Train Score 0.975 RS 165\n",
      "Test Score 0.9666666666666667 Train Score 0.9416666666666667 RS 167\n",
      "Test Score 1.0 Train Score 0.9416666666666667 RS 170\n",
      "Test Score 0.9666666666666667 Train Score 0.9583333333333334 RS 174\n",
      "Test Score 1.0 Train Score 0.95 RS 177\n",
      "Test Score 0.9666666666666667 Train Score 0.9166666666666666 RS 178\n",
      "Test Score 1.0 Train Score 0.95 RS 183\n",
      "Test Score 1.0 Train Score 0.9583333333333334 RS 187\n",
      "Test Score 0.9666666666666667 Train Score 0.9583333333333334 RS 188\n",
      "Test Score 0.9666666666666667 Train Score 0.9583333333333334 RS 190\n",
      "Test Score 0.9666666666666667 Train Score 0.95 RS 195\n",
      "Test Score 0.9666666666666667 Train Score 0.95 RS 198\n",
      "Test Score 0.9666666666666667 Train Score 0.95 RS 199\n",
      "Test Score 1.0 Train Score 0.95 RS 200\n",
      "Test Score 0.9333333333333333 Train Score 0.9 RS 201\n",
      "Test Score 0.9666666666666667 Train Score 0.9583333333333334 RS 207\n",
      "Test Score 1.0 Train Score 0.9416666666666667 RS 210\n",
      "Test Score 1.0 Train Score 0.95 RS 211\n",
      "Test Score 1.0 Train Score 0.9583333333333334 RS 213\n",
      "Test Score 0.9333333333333333 Train Score 0.925 RS 215\n",
      "Test Score 1.0 Train Score 0.95 RS 219\n",
      "Test Score 0.9666666666666667 Train Score 0.95 RS 221\n",
      "Test Score 1.0 Train Score 0.9583333333333334 RS 224\n",
      "Test Score 0.9666666666666667 Train Score 0.9333333333333333 RS 226\n",
      "Test Score 0.9666666666666667 Train Score 0.9583333333333334 RS 231\n",
      "Test Score 0.9666666666666667 Train Score 0.9583333333333334 RS 232\n",
      "Test Score 1.0 Train Score 0.975 RS 233\n",
      "Test Score 1.0 Train Score 0.9666666666666667 RS 234\n",
      "Test Score 0.9666666666666667 Train Score 0.95 RS 235\n",
      "Test Score 1.0 Train Score 0.95 RS 240\n",
      "Test Score 0.9666666666666667 Train Score 0.925 RS 241\n",
      "Test Score 1.0 Train Score 0.9416666666666667 RS 243\n",
      "Test Score 0.9666666666666667 Train Score 0.9583333333333334 RS 245\n",
      "Test Score 1.0 Train Score 0.95 RS 247\n",
      "Test Score 0.9666666666666667 Train Score 0.95 RS 254\n",
      "Test Score 0.9666666666666667 Train Score 0.9333333333333333 RS 256\n",
      "Test Score 0.9666666666666667 Train Score 0.95 RS 258\n",
      "Test Score 0.9666666666666667 Train Score 0.9583333333333334 RS 260\n",
      "Test Score 0.9666666666666667 Train Score 0.9583333333333334 RS 262\n",
      "Test Score 1.0 Train Score 0.9583333333333334 RS 263\n",
      "Test Score 0.9666666666666667 Train Score 0.95 RS 264\n",
      "Test Score 0.9666666666666667 Train Score 0.9333333333333333 RS 270\n",
      "Test Score 1.0 Train Score 0.95 RS 273\n",
      "Test Score 1.0 Train Score 0.9416666666666667 RS 278\n",
      "Test Score 0.9666666666666667 Train Score 0.9583333333333334 RS 280\n",
      "Test Score 0.9666666666666667 Train Score 0.9416666666666667 RS 282\n",
      "Test Score 1.0 Train Score 0.9333333333333333 RS 284\n",
      "Test Score 1.0 Train Score 0.95 RS 285\n",
      "Test Score 1.0 Train Score 0.9416666666666667 RS 291\n",
      "Test Score 0.9666666666666667 Train Score 0.9583333333333334 RS 292\n",
      "Test Score 0.9666666666666667 Train Score 0.95 RS 293\n",
      "Test Score 0.9666666666666667 Train Score 0.9416666666666667 RS 294\n",
      "Test Score 0.9666666666666667 Train Score 0.9333333333333333 RS 299\n",
      "Test Score 1.0 Train Score 0.95 RS 302\n",
      "Test Score 0.9666666666666667 Train Score 0.9583333333333334 RS 303\n",
      "Test Score 0.9666666666666667 Train Score 0.9583333333333334 RS 308\n",
      "Test Score 0.9666666666666667 Train Score 0.9583333333333334 RS 310\n",
      "Test Score 0.9666666666666667 Train Score 0.9583333333333334 RS 312\n",
      "Test Score 1.0 Train Score 0.9416666666666667 RS 315\n",
      "Test Score 0.9666666666666667 Train Score 0.9583333333333334 RS 318\n",
      "Test Score 0.9666666666666667 Train Score 0.9583333333333334 RS 319\n",
      "Test Score 0.9666666666666667 Train Score 0.95 RS 320\n",
      "Test Score 1.0 Train Score 0.95 RS 321\n",
      "Test Score 0.9666666666666667 Train Score 0.95 RS 322\n",
      "Test Score 0.9666666666666667 Train Score 0.9166666666666666 RS 323\n",
      "Test Score 0.9666666666666667 Train Score 0.9333333333333333 RS 325\n",
      "Test Score 1.0 Train Score 0.9416666666666667 RS 329\n",
      "Test Score 0.9666666666666667 Train Score 0.9583333333333334 RS 330\n",
      "Test Score 0.9666666666666667 Train Score 0.95 RS 331\n",
      "Test Score 1.0 Train Score 0.975 RS 332\n",
      "Test Score 1.0 Train Score 0.9583333333333334 RS 334\n",
      "Test Score 0.9666666666666667 Train Score 0.9583333333333334 RS 338\n",
      "Test Score 0.9666666666666667 Train Score 0.9333333333333333 RS 339\n",
      "Test Score 0.9666666666666667 Train Score 0.9333333333333333 RS 345\n",
      "Test Score 1.0 Train Score 0.9666666666666667 RS 346\n",
      "Test Score 1.0 Train Score 0.9583333333333334 RS 347\n",
      "Test Score 1.0 Train Score 0.9666666666666667 RS 348\n",
      "Test Score 0.9666666666666667 Train Score 0.9583333333333334 RS 350\n",
      "Test Score 0.9666666666666667 Train Score 0.95 RS 352\n",
      "Test Score 0.9666666666666667 Train Score 0.9583333333333334 RS 353\n",
      "Test Score 0.9666666666666667 Train Score 0.925 RS 355\n"
     ]
    },
    {
     "name": "stdout",
     "output_type": "stream",
     "text": [
      "Test Score 0.9666666666666667 Train Score 0.9583333333333334 RS 357\n",
      "Test Score 1.0 Train Score 0.9416666666666667 RS 365\n",
      "Test Score 1.0 Train Score 0.95 RS 366\n",
      "Test Score 0.9333333333333333 Train Score 0.9083333333333333 RS 368\n",
      "Test Score 0.9666666666666667 Train Score 0.95 RS 370\n",
      "Test Score 0.9666666666666667 Train Score 0.9583333333333334 RS 373\n",
      "Test Score 0.9666666666666667 Train Score 0.9583333333333334 RS 378\n",
      "Test Score 0.9666666666666667 Train Score 0.9583333333333334 RS 380\n",
      "Test Score 1.0 Train Score 0.9583333333333334 RS 381\n",
      "Test Score 0.9666666666666667 Train Score 0.9583333333333334 RS 384\n",
      "Test Score 0.9666666666666667 Train Score 0.9416666666666667 RS 386\n",
      "Test Score 0.9666666666666667 Train Score 0.9416666666666667 RS 387\n",
      "Test Score 0.9666666666666667 Train Score 0.9583333333333334 RS 388\n",
      "Test Score 1.0 Train Score 0.95 RS 390\n",
      "Test Score 0.9666666666666667 Train Score 0.95 RS 391\n",
      "Test Score 1.0 Train Score 0.95 RS 394\n",
      "Test Score 0.9333333333333333 Train Score 0.925 RS 397\n",
      "Test Score 1.0 Train Score 0.9333333333333333 RS 398\n",
      "Test Score 0.9666666666666667 Train Score 0.9333333333333333 RS 400\n"
     ]
    }
   ],
   "source": [
    "#Bagging -- Sampling WithOut Replacement\n",
    "\n",
    "for i in range(1,401):\n",
    "    X_train,X_test,y_train,y_test = train_test_split(features,\n",
    "                                                label,\n",
    "                                                test_size=0.2,\n",
    "                                                random_state = i)\n",
    "    \n",
    "    \n",
    "    modelDT3 = DecisionTreeClassifier()\n",
    "    bagClassifierWithOutReplacement = BaggingClassifier(n_estimators=11,\n",
    "                                     base_estimator=modelDT3,\n",
    "                                     max_samples=sampleSize,\n",
    "                                     bootstrap=False)\n",
    "    bagClassifierWithOutReplacement.fit(X_train,y_train)\n",
    "    \n",
    "    trainScore = bagClassifierWithOutReplacement.score(X_train,y_train)\n",
    "    testScore = bagClassifierWithOutReplacement.score(X_test,y_test)\n",
    "    \n",
    "    if testScore > trainScore:\n",
    "        print(\"Test Score {} Train Score {} RS {}\".format(testScore,trainScore,i))"
   ]
  },
  {
   "cell_type": "code",
   "execution_count": 46,
   "metadata": {},
   "outputs": [
    {
     "name": "stdout",
     "output_type": "stream",
     "text": [
      "Test Score 0.9666666666666667 Train Score 0.9583333333333334 RS 2\n",
      "Test Score 0.9666666666666667 Train Score 0.9583333333333334 RS 3\n",
      "Test Score 0.9666666666666667 Train Score 0.9583333333333334 RS 4\n",
      "Test Score 1.0 Train Score 0.9666666666666667 RS 9\n",
      "Test Score 1.0 Train Score 0.9583333333333334 RS 10\n",
      "Test Score 0.9666666666666667 Train Score 0.95 RS 13\n",
      "Test Score 1.0 Train Score 0.95 RS 14\n",
      "Test Score 0.9666666666666667 Train Score 0.95 RS 15\n",
      "Test Score 1.0 Train Score 0.95 RS 18\n",
      "Test Score 0.9666666666666667 Train Score 0.9583333333333334 RS 19\n",
      "Test Score 0.9666666666666667 Train Score 0.9583333333333334 RS 23\n",
      "Test Score 1.0 Train Score 0.95 RS 24\n",
      "Test Score 0.9666666666666667 Train Score 0.95 RS 26\n",
      "Test Score 0.9666666666666667 Train Score 0.9583333333333334 RS 30\n",
      "Test Score 0.9666666666666667 Train Score 0.9583333333333334 RS 31\n",
      "Test Score 0.9666666666666667 Train Score 0.9416666666666667 RS 32\n",
      "Test Score 1.0 Train Score 0.95 RS 34\n",
      "Test Score 1.0 Train Score 0.9416666666666667 RS 35\n",
      "Test Score 0.9666666666666667 Train Score 0.9583333333333334 RS 36\n",
      "Test Score 1.0 Train Score 0.95 RS 37\n",
      "Test Score 0.9666666666666667 Train Score 0.95 RS 38\n",
      "Test Score 0.9333333333333333 Train Score 0.9 RS 40\n",
      "Test Score 0.9666666666666667 Train Score 0.9583333333333334 RS 42\n",
      "Test Score 0.9333333333333333 Train Score 0.925 RS 45\n",
      "Test Score 0.9666666666666667 Train Score 0.9583333333333334 RS 57\n",
      "Test Score 0.9666666666666667 Train Score 0.9583333333333334 RS 59\n",
      "Test Score 0.9666666666666667 Train Score 0.9416666666666667 RS 64\n",
      "Test Score 0.9666666666666667 Train Score 0.9583333333333334 RS 69\n",
      "Test Score 0.9666666666666667 Train Score 0.95 RS 70\n",
      "Test Score 1.0 Train Score 0.9583333333333334 RS 72\n",
      "Test Score 1.0 Train Score 0.9583333333333334 RS 74\n",
      "Test Score 0.9666666666666667 Train Score 0.9416666666666667 RS 81\n",
      "Test Score 1.0 Train Score 0.95 RS 84\n",
      "Test Score 1.0 Train Score 0.9666666666666667 RS 87\n",
      "Test Score 0.9666666666666667 Train Score 0.95 RS 90\n",
      "Test Score 0.9666666666666667 Train Score 0.9416666666666667 RS 91\n",
      "Test Score 0.9666666666666667 Train Score 0.9416666666666667 RS 93\n",
      "Test Score 0.9666666666666667 Train Score 0.95 RS 94\n",
      "Test Score 0.9666666666666667 Train Score 0.95 RS 95\n",
      "Test Score 0.9666666666666667 Train Score 0.9583333333333334 RS 100\n",
      "Test Score 0.9666666666666667 Train Score 0.95 RS 102\n",
      "Test Score 1.0 Train Score 0.95 RS 103\n",
      "Test Score 1.0 Train Score 0.9416666666666667 RS 104\n",
      "Test Score 1.0 Train Score 0.95 RS 106\n",
      "Test Score 1.0 Train Score 0.9416666666666667 RS 107\n",
      "Test Score 0.9666666666666667 Train Score 0.95 RS 110\n",
      "Test Score 1.0 Train Score 0.95 RS 112\n",
      "Test Score 0.9333333333333333 Train Score 0.9166666666666666 RS 115\n",
      "Test Score 1.0 Train Score 0.9416666666666667 RS 120\n",
      "Test Score 0.9666666666666667 Train Score 0.9583333333333334 RS 123\n",
      "Test Score 0.9666666666666667 Train Score 0.95 RS 125\n",
      "Test Score 1.0 Train Score 0.9666666666666667 RS 128\n",
      "Test Score 0.9666666666666667 Train Score 0.95 RS 131\n",
      "Test Score 0.9666666666666667 Train Score 0.9333333333333333 RS 133\n",
      "Test Score 1.0 Train Score 0.9416666666666667 RS 135\n",
      "Test Score 1.0 Train Score 0.9416666666666667 RS 137\n",
      "Test Score 0.9666666666666667 Train Score 0.95 RS 138\n",
      "Test Score 0.9666666666666667 Train Score 0.95 RS 139\n",
      "Test Score 1.0 Train Score 0.9333333333333333 RS 140\n",
      "Test Score 0.9666666666666667 Train Score 0.9583333333333334 RS 144\n",
      "Test Score 0.9666666666666667 Train Score 0.9583333333333334 RS 146\n",
      "Test Score 0.9666666666666667 Train Score 0.9583333333333334 RS 149\n",
      "Test Score 0.9666666666666667 Train Score 0.925 RS 151\n",
      "Test Score 1.0 Train Score 0.9583333333333334 RS 152\n",
      "Test Score 0.9333333333333333 Train Score 0.9083333333333333 RS 156\n",
      "Test Score 0.9333333333333333 Train Score 0.9 RS 164\n",
      "Test Score 0.9666666666666667 Train Score 0.95 RS 165\n",
      "Test Score 0.9666666666666667 Train Score 0.9416666666666667 RS 166\n",
      "Test Score 0.9666666666666667 Train Score 0.9583333333333334 RS 167\n",
      "Test Score 0.9666666666666667 Train Score 0.9583333333333334 RS 168\n",
      "Test Score 0.9666666666666667 Train Score 0.9583333333333334 RS 169\n",
      "Test Score 1.0 Train Score 0.95 RS 170\n",
      "Test Score 0.9666666666666667 Train Score 0.95 RS 174\n",
      "Test Score 0.9666666666666667 Train Score 0.95 RS 178\n",
      "Test Score 0.9666666666666667 Train Score 0.95 RS 188\n",
      "Test Score 0.9666666666666667 Train Score 0.95 RS 191\n",
      "Test Score 1.0 Train Score 0.95 RS 192\n",
      "Test Score 0.9666666666666667 Train Score 0.9583333333333334 RS 193\n",
      "Test Score 0.9666666666666667 Train Score 0.95 RS 194\n",
      "Test Score 1.0 Train Score 0.9416666666666667 RS 195\n",
      "Test Score 1.0 Train Score 0.95 RS 197\n",
      "Test Score 1.0 Train Score 0.95 RS 200\n",
      "Test Score 0.9666666666666667 Train Score 0.9583333333333334 RS 201\n",
      "Test Score 0.9666666666666667 Train Score 0.9583333333333334 RS 209\n",
      "Test Score 1.0 Train Score 0.925 RS 210\n",
      "Test Score 1.0 Train Score 0.9416666666666667 RS 211\n",
      "Test Score 1.0 Train Score 0.9583333333333334 RS 213\n",
      "Test Score 1.0 Train Score 0.9416666666666667 RS 219\n",
      "Test Score 0.9666666666666667 Train Score 0.95 RS 220\n",
      "Test Score 0.9666666666666667 Train Score 0.9583333333333334 RS 223\n",
      "Test Score 0.9666666666666667 Train Score 0.9583333333333334 RS 224\n",
      "Test Score 0.9666666666666667 Train Score 0.9583333333333334 RS 225\n",
      "Test Score 1.0 Train Score 0.9416666666666667 RS 226\n",
      "Test Score 0.9666666666666667 Train Score 0.9583333333333334 RS 232\n",
      "Test Score 0.9666666666666667 Train Score 0.9583333333333334 RS 233\n",
      "Test Score 1.0 Train Score 0.9416666666666667 RS 234\n",
      "Test Score 0.9666666666666667 Train Score 0.95 RS 236\n",
      "Test Score 0.9333333333333333 Train Score 0.9 RS 237\n",
      "Test Score 0.9666666666666667 Train Score 0.9583333333333334 RS 238\n",
      "Test Score 1.0 Train Score 0.95 RS 240\n",
      "Test Score 1.0 Train Score 0.9666666666666667 RS 242\n",
      "Test Score 1.0 Train Score 0.9333333333333333 RS 243\n",
      "Test Score 1.0 Train Score 0.95 RS 247\n",
      "Test Score 1.0 Train Score 0.95 RS 248\n",
      "Test Score 0.9666666666666667 Train Score 0.9583333333333334 RS 250\n",
      "Test Score 0.9666666666666667 Train Score 0.9583333333333334 RS 254\n",
      "Test Score 1.0 Train Score 0.9583333333333334 RS 256\n",
      "Test Score 1.0 Train Score 0.9333333333333333 RS 257\n",
      "Test Score 1.0 Train Score 0.95 RS 258\n",
      "Test Score 1.0 Train Score 0.9666666666666667 RS 260\n",
      "Test Score 0.9666666666666667 Train Score 0.95 RS 263\n",
      "Test Score 1.0 Train Score 0.9583333333333334 RS 269\n",
      "Test Score 1.0 Train Score 0.95 RS 270\n",
      "Test Score 1.0 Train Score 0.9333333333333333 RS 273\n",
      "Test Score 0.9666666666666667 Train Score 0.95 RS 276\n",
      "Test Score 0.9666666666666667 Train Score 0.9333333333333333 RS 278\n",
      "Test Score 0.9666666666666667 Train Score 0.9583333333333334 RS 280\n",
      "Test Score 0.9666666666666667 Train Score 0.9416666666666667 RS 284\n",
      "Test Score 0.9666666666666667 Train Score 0.95 RS 285\n",
      "Test Score 0.9666666666666667 Train Score 0.9583333333333334 RS 286\n",
      "Test Score 0.9666666666666667 Train Score 0.9583333333333334 RS 290\n",
      "Test Score 1.0 Train Score 0.9 RS 291\n",
      "Test Score 0.9666666666666667 Train Score 0.9583333333333334 RS 293\n",
      "Test Score 1.0 Train Score 0.95 RS 294\n",
      "Test Score 0.9666666666666667 Train Score 0.9583333333333334 RS 299\n",
      "Test Score 0.9666666666666667 Train Score 0.9583333333333334 RS 300\n",
      "Test Score 1.0 Train Score 0.9416666666666667 RS 302\n",
      "Test Score 0.9666666666666667 Train Score 0.9583333333333334 RS 303\n",
      "Test Score 0.9666666666666667 Train Score 0.95 RS 304\n",
      "Test Score 0.9666666666666667 Train Score 0.9416666666666667 RS 310\n",
      "Test Score 0.9666666666666667 Train Score 0.9583333333333334 RS 311\n",
      "Test Score 0.9666666666666667 Train Score 0.95 RS 312\n",
      "Test Score 0.9666666666666667 Train Score 0.9583333333333334 RS 315\n",
      "Test Score 0.9666666666666667 Train Score 0.9583333333333334 RS 318\n",
      "Test Score 1.0 Train Score 0.9333333333333333 RS 321\n",
      "Test Score 0.9666666666666667 Train Score 0.9583333333333334 RS 322\n",
      "Test Score 0.9666666666666667 Train Score 0.9583333333333334 RS 324\n",
      "Test Score 0.9666666666666667 Train Score 0.9583333333333334 RS 325\n",
      "Test Score 0.9666666666666667 Train Score 0.95 RS 326\n",
      "Test Score 0.9666666666666667 Train Score 0.9583333333333334 RS 330\n",
      "Test Score 1.0 Train Score 0.9416666666666667 RS 331\n",
      "Test Score 1.0 Train Score 0.9583333333333334 RS 332\n",
      "Test Score 0.9666666666666667 Train Score 0.9583333333333334 RS 333\n",
      "Test Score 1.0 Train Score 0.95 RS 334\n",
      "Test Score 0.9666666666666667 Train Score 0.9583333333333334 RS 336\n",
      "Test Score 0.9666666666666667 Train Score 0.9583333333333334 RS 337\n",
      "Test Score 0.9666666666666667 Train Score 0.95 RS 338\n",
      "Test Score 1.0 Train Score 0.95 RS 339\n"
     ]
    },
    {
     "name": "stdout",
     "output_type": "stream",
     "text": [
      "Test Score 0.9666666666666667 Train Score 0.9083333333333333 RS 342\n",
      "Test Score 0.9666666666666667 Train Score 0.9583333333333334 RS 344\n",
      "Test Score 0.9666666666666667 Train Score 0.9583333333333334 RS 346\n",
      "Test Score 1.0 Train Score 0.95 RS 347\n",
      "Test Score 1.0 Train Score 0.9666666666666667 RS 348\n",
      "Test Score 0.9666666666666667 Train Score 0.95 RS 349\n",
      "Test Score 0.9666666666666667 Train Score 0.95 RS 350\n",
      "Test Score 1.0 Train Score 0.9583333333333334 RS 355\n",
      "Test Score 0.9666666666666667 Train Score 0.95 RS 356\n",
      "Test Score 0.9666666666666667 Train Score 0.95 RS 357\n",
      "Test Score 0.9666666666666667 Train Score 0.9583333333333334 RS 363\n",
      "Test Score 1.0 Train Score 0.9416666666666667 RS 364\n",
      "Test Score 1.0 Train Score 0.9333333333333333 RS 365\n",
      "Test Score 1.0 Train Score 0.9583333333333334 RS 366\n",
      "Test Score 0.9333333333333333 Train Score 0.925 RS 368\n",
      "Test Score 0.9666666666666667 Train Score 0.9583333333333334 RS 369\n",
      "Test Score 0.9666666666666667 Train Score 0.9333333333333333 RS 370\n",
      "Test Score 0.9666666666666667 Train Score 0.95 RS 378\n",
      "Test Score 1.0 Train Score 0.975 RS 381\n",
      "Test Score 0.9666666666666667 Train Score 0.9583333333333334 RS 382\n",
      "Test Score 0.9666666666666667 Train Score 0.9583333333333334 RS 383\n",
      "Test Score 0.9666666666666667 Train Score 0.9583333333333334 RS 385\n",
      "Test Score 0.9666666666666667 Train Score 0.95 RS 386\n",
      "Test Score 0.9666666666666667 Train Score 0.95 RS 389\n",
      "Test Score 1.0 Train Score 0.9583333333333334 RS 390\n",
      "Test Score 1.0 Train Score 0.95 RS 391\n",
      "Test Score 1.0 Train Score 0.975 RS 396\n",
      "Test Score 1.0 Train Score 0.9333333333333333 RS 398\n",
      "Test Score 1.0 Train Score 0.9333333333333333 RS 400\n"
     ]
    }
   ],
   "source": [
    "#Bagging -- Sampling With Replacement\n",
    "\n",
    "for i in range(1,401):\n",
    "    X_train,X_test,y_train,y_test = train_test_split(features,\n",
    "                                                label,\n",
    "                                                test_size=0.2,\n",
    "                                                random_state = i)\n",
    "    \n",
    "    \n",
    "    modelDT3 = DecisionTreeClassifier()\n",
    "    bagClassifierWithReplacement = BaggingClassifier(n_estimators=11,\n",
    "                                     base_estimator=modelDT3,\n",
    "                                     max_samples=sampleSize,\n",
    "                                     bootstrap=True)\n",
    "    bagClassifierWithReplacement.fit(X_train,y_train)\n",
    "    \n",
    "    trainScore = bagClassifierWithReplacement.score(X_train,y_train)\n",
    "    testScore = bagClassifierWithReplacement.score(X_test,y_test)\n",
    "    \n",
    "    if testScore > trainScore:\n",
    "        print(\"Test Score {} Train Score {} RS {}\".format(testScore,trainScore,i))"
   ]
  },
  {
   "cell_type": "code",
   "execution_count": 48,
   "metadata": {},
   "outputs": [],
   "source": [
    "from sklearn.ensemble import RandomForestClassifier\n",
    "?RandomForestClassifier"
   ]
  },
  {
   "cell_type": "code",
   "execution_count": null,
   "metadata": {},
   "outputs": [],
   "source": []
  }
 ],
 "metadata": {
  "kernelspec": {
   "display_name": "Python 3",
   "language": "python",
   "name": "python3"
  },
  "language_info": {
   "codemirror_mode": {
    "name": "ipython",
    "version": 3
   },
   "file_extension": ".py",
   "mimetype": "text/x-python",
   "name": "python",
   "nbconvert_exporter": "python",
   "pygments_lexer": "ipython3",
   "version": "3.7.5"
  }
 },
 "nbformat": 4,
 "nbformat_minor": 4
}
